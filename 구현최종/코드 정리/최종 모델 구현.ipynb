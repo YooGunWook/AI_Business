{
 "cells": [
  {
   "cell_type": "code",
   "execution_count": 1,
   "metadata": {},
   "outputs": [],
   "source": [
    "import pandas as pd\n",
    "import numpy as np\n",
    "import matplotlib.pyplot as plt\n",
    "from matplotlib import font_manager, rc\n",
    "font_name = font_manager.FontProperties(fname=\"c:/Windows/Fonts/malgun.ttf\").get_name()\n",
    "rc('font', family=font_name)"
   ]
  },
  {
   "cell_type": "markdown",
   "metadata": {},
   "source": [
    "- 2018년 train\n",
    "- 2019 1월, 2월 test"
   ]
  },
  {
   "cell_type": "markdown",
   "metadata": {},
   "source": [
    "- 치킨, 기온, 강수, 미세먼지 데이터 이용\n",
    "- 요일별 EDA 해보고 '주말여부' 컬럼 추가 결정!"
   ]
  },
  {
   "cell_type": "code",
   "execution_count": 2,
   "metadata": {},
   "outputs": [],
   "source": [
    "chicken2018 = pd.read_csv('chicken_data/CALL_CHICKEN_2018_01MONTH.csv')\n",
    "for i in ['02','03','04','05','06','07','08','09','10','11','12']:\n",
    "    a = 'chicken_data/CALL_CHICKEN_2018_' + i + 'MONTH.csv'\n",
    "    b = pd.read_csv(a)\n",
    "    chicken2018 = pd.concat([chicken2018,b])"
   ]
  },
  {
   "cell_type": "code",
   "execution_count": 3,
   "metadata": {},
   "outputs": [],
   "source": [
    "chicken2017 = pd.read_csv('chicken_data/CALL_CHICKEN_2017_01MONTH.csv')\n",
    "for i in ['02','03','04','05','06','07','08','09','10','11','12']:\n",
    "    a = 'chicken_data/CALL_CHICKEN_2017_' + i + 'MONTH.csv'\n",
    "    b = pd.read_csv(a)\n",
    "    chicken2017 = pd.concat([chicken2017,b])"
   ]
  },
  {
   "cell_type": "code",
   "execution_count": 4,
   "metadata": {},
   "outputs": [],
   "source": [
    "chicken2016 = pd.read_csv('chicken_data/CALL_CHICKEN_2016_01MONTH.csv')\n",
    "for i in ['02','03','04','05','06','07','08','09','10','11','12']:\n",
    "    a = 'chicken_data/CALL_CHICKEN_2016_' + i + 'MONTH.csv'\n",
    "    b = pd.read_csv(a)\n",
    "    chicken2016 = pd.concat([chicken2016,b])"
   ]
  },
  {
   "cell_type": "code",
   "execution_count": 5,
   "metadata": {},
   "outputs": [],
   "source": [
    "chicken2019 = pd.read_csv('chicken_data/CALL_CHICKEN_2019_01MONTH.csv')\n",
    "for i in ['02']:\n",
    "    a = 'chicken_data/CALL_CHICKEN_2019_' + i + 'MONTH.csv'\n",
    "    b = pd.read_csv(a)\n",
    "    chicken2019 = pd.concat([chicken2019,b])"
   ]
  },
  {
   "cell_type": "code",
   "execution_count": 6,
   "metadata": {},
   "outputs": [],
   "source": [
    "chicken_data = pd.concat([chicken2016,chicken2017,chicken2018,chicken2019])"
   ]
  },
  {
   "cell_type": "code",
   "execution_count": 8,
   "metadata": {},
   "outputs": [],
   "source": [
    "chicken_data.to_csv('chicken_data.csv', index = False) "
   ]
  },
  {
   "cell_type": "markdown",
   "metadata": {},
   "source": [
    "# 치킨 데이터"
   ]
  },
  {
   "cell_type": "code",
   "execution_count": 2,
   "metadata": {},
   "outputs": [],
   "source": [
    "chicken_data = pd.read_csv('chicken_data.csv', encoding = 'euc-kr')"
   ]
  },
  {
   "cell_type": "code",
   "execution_count": 3,
   "metadata": {},
   "outputs": [],
   "source": [
    "chicken_data_서대문구 = chicken_data[lambda x : x.시군구 == '서대문구']\n",
    "chicken_groupby = chicken_data_서대문구.groupby(['기준일','읍면동','요일'])['통화건수'].sum()"
   ]
  },
  {
   "cell_type": "markdown",
   "metadata": {},
   "source": [
    "# 날씨 데이터\n",
    "- 2018년도랑 2019년도 나누기\n",
    "- 년도 split해서 분류하면 될듯 "
   ]
  },
  {
   "cell_type": "code",
   "execution_count": 13,
   "metadata": {},
   "outputs": [],
   "source": [
    "air = pd.read_csv('air.csv')\n",
    "dust_1617 = pd.read_csv('weather/dust_1617.csv')"
   ]
  },
  {
   "cell_type": "code",
   "execution_count": 14,
   "metadata": {},
   "outputs": [],
   "source": [
    "air = air[lambda x : x.측정소명 == '서대문구']\n",
    "air = air[['측정일자','미세먼지','초미세먼지']].reset_index(drop = True)"
   ]
  },
  {
   "cell_type": "code",
   "execution_count": 15,
   "metadata": {},
   "outputs": [],
   "source": [
    "air = pd.concat([air, dust_1617])"
   ]
  },
  {
   "cell_type": "code",
   "execution_count": 17,
   "metadata": {},
   "outputs": [],
   "source": [
    "weather_161718 = pd.read_csv('weather/weather_161718.csv', encoding = 'euc-kr')\n",
    "weather_test = pd.read_csv('weather/test.weather.csv', encoding = 'euc-kr')"
   ]
  },
  {
   "cell_type": "code",
   "execution_count": 18,
   "metadata": {},
   "outputs": [],
   "source": [
    "weather = weather_161718.fillna(0)\n",
    "weather = pd.concat([weather_161718,weather_test])"
   ]
  },
  {
   "cell_type": "code",
   "execution_count": 19,
   "metadata": {},
   "outputs": [],
   "source": [
    "# 연도\n",
    "def date_year(x):\n",
    "    return str(x)[:4]\n",
    "\n",
    "def date_month(x):\n",
    "    return str(x)[4:6]\n",
    "\n",
    "def date_day(x):\n",
    "    return str(x)[6:]"
   ]
  },
  {
   "cell_type": "code",
   "execution_count": 20,
   "metadata": {},
   "outputs": [],
   "source": [
    "def date_year2(x):\n",
    "    return x.split('-')[0]\n",
    "def date_month2(x):\n",
    "    return x.split('-')[1]\n",
    "def date_day2(x):\n",
    "    return x.split('-')[2]"
   ]
  },
  {
   "cell_type": "code",
   "execution_count": 21,
   "metadata": {},
   "outputs": [],
   "source": [
    "air = air.groupby(['측정일자'])['미세먼지','초미세먼지'].mean().reset_index()"
   ]
  },
  {
   "cell_type": "code",
   "execution_count": 24,
   "metadata": {},
   "outputs": [],
   "source": [
    "chicken_groupby['년'] = chicken_groupby['기준일'].map(date_year)\n",
    "chicken_groupby['월']= chicken_groupby['기준일'].map(date_month)\n",
    "chicken_groupby['일']= chicken_groupby['기준일'].map(date_day)\n",
    "\n",
    "air['년'] = air['측정일자'].map(date_year)\n",
    "air['월'] = air['측정일자'].map(date_month)\n",
    "air['일'] = air['측정일자'].map(date_day)\n",
    "\n",
    "weather['년'] = weather['일시'].map(date_year2)\n",
    "weather['월'] = weather['일시'].map(date_month2)\n",
    "weather['일'] = weather['일시'].map(date_day2)"
   ]
  },
  {
   "cell_type": "code",
   "execution_count": 27,
   "metadata": {},
   "outputs": [],
   "source": [
    "use_col = ['읍면동', '요일', '통화건수', '년', '월', '일','미세먼지', '초미세먼지',  '평균기온(°C)', \n",
    "           '최저기온(°C)', '최고기온(°C)', '일강수량(mm)']"
   ]
  },
  {
   "cell_type": "code",
   "execution_count": 28,
   "metadata": {},
   "outputs": [],
   "source": [
    "final_df = pd.merge(chicken_groupby,air , how = 'inner', on = ['년','월','일'])\n",
    "final_df = pd.merge(final_df, weather , how = 'outer', on = ['년','월','일'])"
   ]
  },
  {
   "cell_type": "code",
   "execution_count": 29,
   "metadata": {},
   "outputs": [],
   "source": [
    "final_df = final_df[use_col]"
   ]
  },
  {
   "cell_type": "code",
   "execution_count": 30,
   "metadata": {},
   "outputs": [
    {
     "data": {
      "text/plain": [
       "8615"
      ]
     },
     "execution_count": 30,
     "metadata": {},
     "output_type": "execute_result"
    }
   ],
   "source": [
    "len(final_df)"
   ]
  },
  {
   "cell_type": "code",
   "execution_count": 25,
   "metadata": {},
   "outputs": [],
   "source": [
    "fill_mean_func = lambda x : x.fillna(x.mean())\n",
    "final_df = final_df.groupby('월').apply(fill_mean_func)\n",
    "final_df = final_df.reset_index(drop = True)\n",
    "final_df.isnull().sum()"
   ]
  },
  {
   "cell_type": "code",
   "execution_count": 33,
   "metadata": {},
   "outputs": [],
   "source": [
    "final_df = final_df.dropna()"
   ]
  },
  {
   "cell_type": "code",
   "execution_count": 34,
   "metadata": {},
   "outputs": [],
   "source": [
    "final_test = final_df[lambda x : x.년 == '2019']\n",
    "final_train = final_df[lambda x : x.년.isin(['2016','2017','2018'])]"
   ]
  },
  {
   "cell_type": "code",
   "execution_count": 35,
   "metadata": {},
   "outputs": [],
   "source": [
    "final_train.to_csv('train.csv', index = False)\n",
    "final_test.to_csv('test.csv', index = False)"
   ]
  },
  {
   "cell_type": "code",
   "execution_count": 23,
   "metadata": {},
   "outputs": [],
   "source": [
    "final_train = pd.read_csv('train.csv', encoding = 'euc-kr')\n",
    "final_test = pd.read_csv('test.csv', encoding = 'euc-kr')"
   ]
  },
  {
   "cell_type": "code",
   "execution_count": 26,
   "metadata": {},
   "outputs": [],
   "source": [
    "soccer = pd.read_csv('soccer.csv')"
   ]
  },
  {
   "cell_type": "code",
   "execution_count": 27,
   "metadata": {},
   "outputs": [],
   "source": [
    "def year(x):\n",
    "    return str(x)[:4]\n",
    "def month(x):\n",
    "    return str(x)[5:6]\n",
    "def day(x):\n",
    "    return str(x)[7:]"
   ]
  },
  {
   "cell_type": "code",
   "execution_count": 28,
   "metadata": {},
   "outputs": [],
   "source": [
    "soccer['년'] = soccer.날짜.map(year)\n",
    "soccer['월'] = soccer.날짜.map(month)\n",
    "soccer['일'] = soccer.날짜.map(day)"
   ]
  },
  {
   "cell_type": "code",
   "execution_count": 29,
   "metadata": {},
   "outputs": [],
   "source": [
    "soccer['soccer'] = 1"
   ]
  },
  {
   "cell_type": "code",
   "execution_count": 30,
   "metadata": {},
   "outputs": [],
   "source": [
    "day_map = {'월':0, '화':0, '수':0, '목':0, '금':1, '토':1, '일':1}\n",
    "final_train['weekend'] = final_train['요일'].map(day_map)"
   ]
  },
  {
   "cell_type": "code",
   "execution_count": 31,
   "metadata": {},
   "outputs": [],
   "source": [
    "area_map = {'홍제동':3, '연희동':4, '대현동':3, '남가좌동':2, '북가좌동':2, '북아현동':1, '합동':1,'홍은동':2,'창천동':3,'충정로2가':4,\n",
    "          '충정로3가':1,'봉원동':1,'신촌동':1,'현저동':1,'대신동':1}\n",
    "final_train['읍면동'] = final_train['읍면동'].map(area_map)"
   ]
  },
  {
   "cell_type": "code",
   "execution_count": 32,
   "metadata": {},
   "outputs": [],
   "source": [
    "final_test['weekend'] = final_test['요일'].map(day_map)\n",
    "final_test['읍면동'] = final_test['읍면동'].map(area_map)"
   ]
  },
  {
   "cell_type": "code",
   "execution_count": 35,
   "metadata": {},
   "outputs": [],
   "source": [
    "final_train2 = final_train.groupby(['읍면동','년','월','일']).mean().reset_index()"
   ]
  },
  {
   "cell_type": "code",
   "execution_count": 36,
   "metadata": {},
   "outputs": [],
   "source": [
    "soccer.년 =  soccer.년.map(int)\n",
    "soccer.월 =  soccer.월.map(int)\n",
    "soccer.일 =  soccer.일.map(int)\n",
    "\n",
    "final_train2.년 =  final_train2.년.map(int)\n",
    "# train_1.월 =  train_1.월.map(int)\n",
    "# train_1.일 =  train_1.일.map(int)\n",
    "\n",
    "# test_1.년 =  test_1.년.map(int)\n",
    "# test_1.월 =  test_1.월.map(int)\n",
    "# test_1.일 =  test_1.일.map(int)"
   ]
  },
  {
   "cell_type": "code",
   "execution_count": 37,
   "metadata": {},
   "outputs": [],
   "source": [
    "final_train3 = pd.merge(final_train2, soccer, on =['년','월','일'],how = 'left')\n",
    "# test_1 = pd.merge(test_1, soccer, on =['년','월','일'],how = 'left')"
   ]
  },
  {
   "cell_type": "code",
   "execution_count": 38,
   "metadata": {},
   "outputs": [],
   "source": [
    "del final_train3['날짜']\n",
    "final_train3 = final_train3.fillna(0)"
   ]
  },
  {
   "cell_type": "code",
   "execution_count": 76,
   "metadata": {},
   "outputs": [],
   "source": [
    "# del test_1['날짜']\n",
    "# test_1 = test_1.fillna(0)"
   ]
  },
  {
   "cell_type": "code",
   "execution_count": 46,
   "metadata": {},
   "outputs": [],
   "source": [
    "temp = pd.get_dummies(final_train3['읍면동'],prefix = '읍면동')\n",
    "final_train4 = pd.concat([temp, final_train3], axis = 1)"
   ]
  },
  {
   "cell_type": "code",
   "execution_count": 48,
   "metadata": {},
   "outputs": [],
   "source": [
    "final_train4.to_csv('for_sejung.csv', index = False)"
   ]
  },
  {
   "cell_type": "code",
   "execution_count": 63,
   "metadata": {},
   "outputs": [
    {
     "name": "stderr",
     "output_type": "stream",
     "text": [
      "C:\\anaconda\\lib\\site-packages\\statsmodels\\compat\\pandas.py:56: FutureWarning: The pandas.core.datetools module is deprecated and will be removed in a future version. Please use the pandas.tseries module instead.\n",
      "  from pandas.core import datetools\n"
     ]
    }
   ],
   "source": [
    "from sklearn.preprocessing import StandardScaler\n",
    "# from sklearn.preprocessing import PolynomialFeatures\n",
    "import statsmodels.api as sm\n",
    "# from sklearn.decomposition import PCA"
   ]
  },
  {
   "cell_type": "markdown",
   "metadata": {},
   "source": [
    "StandardScaling을 하였다."
   ]
  },
  {
   "cell_type": "code",
   "execution_count": null,
   "metadata": {},
   "outputs": [],
   "source": [
    "dfX1 = for_sejung [['미세먼지','평균기온(°C)','일강수량(mm)']]\n",
    "scaler1 = StandardScaler().fit(dfX1)\n",
    "dfX1=pd.DataFrame(scaler1.transform(dfX1), columns = ['미세먼지','평균기온(°C)','일강수량(mm)'])\n",
    "dfX1['weekend'] = for_sejung ['weekend'].reset_index(drop = True)\n",
    "dfX1['soccer'] = for_sejung ['soccer'].reset_index(drop = True)\n",
    "dfX1['읍면동_1'] = for_sejung ['읍면동_1'].reset_index(drop = True)\n",
    "dfX1['읍면동_2'] = for_sejung ['읍면동_2'].reset_index(drop = True)\n",
    "dfX1['읍면동_3'] = for_sejung ['읍면동_3'].reset_index(drop = True)\n",
    "\n",
    "dfX1 = sm.add_constant(dfX1)\n",
    "dfy1 = for_sejung.통화건수.reset_index(drop=True)"
   ]
  },
  {
   "cell_type": "code",
   "execution_count": 78,
   "metadata": {},
   "outputs": [],
   "source": [
    "glm1 = sm.GLM(dfy1, dfX1, family = sm.families.Poisson()).fit()"
   ]
  },
  {
   "cell_type": "code",
   "execution_count": 79,
   "metadata": {},
   "outputs": [
    {
     "name": "stdout",
     "output_type": "stream",
     "text": [
      "                 Generalized Linear Model Regression Results                  \n",
      "==============================================================================\n",
      "Dep. Variable:                   통화건수   No. Observations:                  885\n",
      "Model:                            GLM   Df Residuals:                      879\n",
      "Model Family:                 Poisson   Df Model:                            5\n",
      "Link Function:                    log   Scale:                             1.0\n",
      "Method:                          IRLS   Log-Likelihood:                -4149.1\n",
      "Date:                Mon, 20 May 2019   Deviance:                       3954.9\n",
      "Time:                        17:29:34   Pearson chi2:                 4.23e+03\n",
      "No. Iterations:                     4                                         \n",
      "==============================================================================\n",
      "                 coef    std err          z      P>|z|      [0.025      0.975]\n",
      "------------------------------------------------------------------------------\n",
      "const          3.0791      0.010    320.907      0.000       3.060       3.098\n",
      "미세먼지           0.0410      0.007      5.984      0.000       0.028       0.054\n",
      "평균기온(°C)       0.0259      0.007      3.510      0.000       0.011       0.040\n",
      "일강수량(mm)      -0.0278      0.008     -3.528      0.000      -0.043      -0.012\n",
      "weekend        0.1833      0.014     13.251      0.000       0.156       0.210\n",
      "soccer         0.0803      0.041      1.954      0.051      -0.000       0.161\n",
      "==============================================================================\n"
     ]
    }
   ],
   "source": [
    "print(glm1.summary())"
   ]
  }
 ],
 "metadata": {
  "kernelspec": {
   "display_name": "Python 3",
   "language": "python",
   "name": "python3"
  },
  "language_info": {
   "codemirror_mode": {
    "name": "ipython",
    "version": 3
   },
   "file_extension": ".py",
   "mimetype": "text/x-python",
   "name": "python",
   "nbconvert_exporter": "python",
   "pygments_lexer": "ipython3",
   "version": "3.6.3"
  }
 },
 "nbformat": 4,
 "nbformat_minor": 2
}
