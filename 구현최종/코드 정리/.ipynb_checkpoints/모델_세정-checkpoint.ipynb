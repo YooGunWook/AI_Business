{
 "cells": [
  {
   "cell_type": "code",
   "execution_count": 1,
   "metadata": {},
   "outputs": [],
   "source": [
    "import pandas as pd\n",
    "import numpy as np\n",
    "import matplotlib.pyplot as plt\n",
    "from matplotlib import font_manager, rc\n",
    "\n",
    "font_name = font_manager.FontProperties(fname=\"c:/Windows/Fonts/malgun.ttf\").get_name()\n",
    "rc('font', family=font_name)"
   ]
  },
  {
   "cell_type": "code",
   "execution_count": 2,
   "metadata": {},
   "outputs": [],
   "source": [
    "for_sejung = pd.read_csv('for_sejung.csv', encoding = 'euc-kr')"
   ]
  },
  {
   "cell_type": "code",
   "execution_count": 3,
   "metadata": {},
   "outputs": [
    {
     "name": "stderr",
     "output_type": "stream",
     "text": [
      "C:\\anaconda\\lib\\site-packages\\statsmodels\\compat\\pandas.py:56: FutureWarning: The pandas.core.datetools module is deprecated and will be removed in a future version. Please use the pandas.tseries module instead.\n",
      "  from pandas.core import datetools\n"
     ]
    }
   ],
   "source": [
    "from sklearn.preprocessing import StandardScaler\n",
    "import statsmodels.api as sm"
   ]
  },
  {
   "cell_type": "code",
   "execution_count": 4,
   "metadata": {},
   "outputs": [
    {
     "data": {
      "text/html": [
       "<div>\n",
       "<style>\n",
       "    .dataframe thead tr:only-child th {\n",
       "        text-align: right;\n",
       "    }\n",
       "\n",
       "    .dataframe thead th {\n",
       "        text-align: left;\n",
       "    }\n",
       "\n",
       "    .dataframe tbody tr th {\n",
       "        vertical-align: top;\n",
       "    }\n",
       "</style>\n",
       "<table border=\"1\" class=\"dataframe\">\n",
       "  <thead>\n",
       "    <tr style=\"text-align: right;\">\n",
       "      <th></th>\n",
       "      <th>읍면동_1</th>\n",
       "      <th>읍면동_2</th>\n",
       "      <th>읍면동_3</th>\n",
       "      <th>읍면동_4</th>\n",
       "      <th>읍면동</th>\n",
       "      <th>년</th>\n",
       "      <th>월</th>\n",
       "      <th>일</th>\n",
       "      <th>통화건수</th>\n",
       "      <th>미세먼지</th>\n",
       "      <th>초미세먼지</th>\n",
       "      <th>평균기온(°C)</th>\n",
       "      <th>최저기온(°C)</th>\n",
       "      <th>최고기온(°C)</th>\n",
       "      <th>일강수량(mm)</th>\n",
       "      <th>weekend</th>\n",
       "      <th>soccer</th>\n",
       "    </tr>\n",
       "  </thead>\n",
       "  <tbody>\n",
       "    <tr>\n",
       "      <th>0</th>\n",
       "      <td>1</td>\n",
       "      <td>0</td>\n",
       "      <td>0</td>\n",
       "      <td>0</td>\n",
       "      <td>1</td>\n",
       "      <td>2016</td>\n",
       "      <td>6</td>\n",
       "      <td>1</td>\n",
       "      <td>28.666667</td>\n",
       "      <td>42.0</td>\n",
       "      <td>22.0</td>\n",
       "      <td>23.3</td>\n",
       "      <td>17.1</td>\n",
       "      <td>29.9</td>\n",
       "      <td>8.018352</td>\n",
       "      <td>0</td>\n",
       "      <td>1.0</td>\n",
       "    </tr>\n",
       "  </tbody>\n",
       "</table>\n",
       "</div>"
      ],
      "text/plain": [
       "   읍면동_1  읍면동_2  읍면동_3  읍면동_4  읍면동     년  월  일       통화건수  미세먼지  초미세먼지  \\\n",
       "0      1      0      0      0    1  2016  6  1  28.666667  42.0   22.0   \n",
       "\n",
       "   평균기온(°C)  최저기온(°C)  최고기온(°C)  일강수량(mm)  weekend  soccer  \n",
       "0      23.3      17.1      29.9  8.018352        0     1.0  "
      ]
     },
     "execution_count": 4,
     "metadata": {},
     "output_type": "execute_result"
    }
   ],
   "source": [
    "for_sejung.head(1)"
   ]
  },
  {
   "cell_type": "code",
   "execution_count": 5,
   "metadata": {},
   "outputs": [],
   "source": [
    "dfX1 = for_sejung [['미세먼지','평균기온(°C)','일강수량(mm)']]\n",
    "scaler1 = StandardScaler().fit(dfX1)\n",
    "dfX1=pd.DataFrame(scaler1.transform(dfX1), columns = ['미세먼지','평균기온(°C)','일강수량(mm)'])\n",
    "dfX1['weekend'] = for_sejung ['weekend'].reset_index(drop = True)\n",
    "dfX1['soccer'] = for_sejung ['soccer'].reset_index(drop = True)\n",
    "dfX1['읍면동_1'] = for_sejung ['읍면동_1'].reset_index(drop = True)\n",
    "dfX1['읍면동_2'] = for_sejung ['읍면동_2'].reset_index(drop = True)\n",
    "dfX1['읍면동_3'] = for_sejung ['읍면동_3'].reset_index(drop = True)\n",
    "\n",
    "dfX1 = sm.add_constant(dfX1)\n",
    "dfy1 = for_sejung.통화건수.reset_index(drop=True)"
   ]
  },
  {
   "cell_type": "code",
   "execution_count": 6,
   "metadata": {},
   "outputs": [],
   "source": [
    "glm1 = sm.GLM(dfy1, dfX1, family = sm.families.Poisson()).fit()"
   ]
  },
  {
   "cell_type": "code",
   "execution_count": 7,
   "metadata": {},
   "outputs": [
    {
     "name": "stdout",
     "output_type": "stream",
     "text": [
      "                 Generalized Linear Model Regression Results                  \n",
      "==============================================================================\n",
      "Dep. Variable:                   통화건수   No. Observations:                 3543\n",
      "Model:                            GLM   Df Residuals:                     3534\n",
      "Model Family:                 Poisson   Df Model:                            8\n",
      "Link Function:                    log   Scale:                             1.0\n",
      "Method:                          IRLS   Log-Likelihood:                -40429.\n",
      "Date:                Thu, 30 May 2019   Deviance:                       59743.\n",
      "Time:                        00:39:22   Pearson chi2:                 6.03e+04\n",
      "No. Iterations:                     6                                         \n",
      "==============================================================================\n",
      "                 coef    std err          z      P>|z|      [0.025      0.975]\n",
      "------------------------------------------------------------------------------\n",
      "const          5.1209      0.003   1725.721      0.000       5.115       5.127\n",
      "미세먼지           0.0068      0.002      3.974      0.000       0.003       0.010\n",
      "평균기온(°C)      -0.0751      0.002    -42.296      0.000      -0.079      -0.072\n",
      "일강수량(mm)       0.0147      0.002      8.369      0.000       0.011       0.018\n",
      "weekend        0.3391      0.003    100.450      0.000       0.332       0.346\n",
      "soccer        -0.0087      0.010     -0.837      0.403      -0.029       0.012\n",
      "읍면동_1         -2.1173      0.007   -289.661      0.000      -2.132      -2.103\n",
      "읍면동_2         -1.7530      0.006   -281.283      0.000      -1.765      -1.741\n",
      "읍면동_3         -0.3274      0.004    -88.486      0.000      -0.335      -0.320\n",
      "==============================================================================\n"
     ]
    }
   ],
   "source": [
    "print(glm1.summary())"
   ]
  },
  {
   "cell_type": "markdown",
   "metadata": {},
   "source": [
    "이게 무슨 모델 save하는 건데 장고에서 쓸수 있을지는 모르겠당"
   ]
  },
  {
   "cell_type": "markdown",
   "metadata": {},
   "source": [
    "그리고 일단은 이렇게 하는데 모델은 조금 바뀔수도!!! 일단 가장 이걸로 구현해봐용~"
   ]
  },
  {
   "cell_type": "code",
   "execution_count": 15,
   "metadata": {},
   "outputs": [
    {
     "data": {
      "text/html": [
       "<table class=\"simpletable\">\n",
       "<caption>Generalized Linear Model Regression Results</caption>\n",
       "<tr>\n",
       "  <th>Dep. Variable:</th>        <td>통화건수</td>       <th>  No. Observations:  </th>  <td>  3543</td> \n",
       "</tr>\n",
       "<tr>\n",
       "  <th>Model:</th>                 <td>GLM</td>       <th>  Df Residuals:      </th>  <td>  3534</td> \n",
       "</tr>\n",
       "<tr>\n",
       "  <th>Model Family:</th>        <td>Poisson</td>     <th>  Df Model:          </th>  <td>     8</td> \n",
       "</tr>\n",
       "<tr>\n",
       "  <th>Link Function:</th>         <td>log</td>       <th>  Scale:             </th>    <td>1.0</td>  \n",
       "</tr>\n",
       "<tr>\n",
       "  <th>Method:</th>               <td>IRLS</td>       <th>  Log-Likelihood:    </th> <td> -40429.</td>\n",
       "</tr>\n",
       "<tr>\n",
       "  <th>Date:</th>           <td>Thu, 30 May 2019</td> <th>  Deviance:          </th> <td>  59743.</td>\n",
       "</tr>\n",
       "<tr>\n",
       "  <th>Time:</th>               <td>00:36:25</td>     <th>  Pearson chi2:      </th> <td>6.03e+04</td>\n",
       "</tr>\n",
       "<tr>\n",
       "  <th>No. Iterations:</th>         <td>6</td>        <th>                     </th>     <td> </td>   \n",
       "</tr>\n",
       "</table>\n",
       "<table class=\"simpletable\">\n",
       "<tr>\n",
       "      <td></td>        <th>coef</th>     <th>std err</th>      <th>z</th>      <th>P>|z|</th>  <th>[0.025</th>    <th>0.975]</th>  \n",
       "</tr>\n",
       "<tr>\n",
       "  <th>const</th>    <td>    5.1209</td> <td>    0.003</td> <td> 1725.721</td> <td> 0.000</td> <td>    5.115</td> <td>    5.127</td>\n",
       "</tr>\n",
       "<tr>\n",
       "  <th>미세먼지</th>     <td>    0.0068</td> <td>    0.002</td> <td>    3.974</td> <td> 0.000</td> <td>    0.003</td> <td>    0.010</td>\n",
       "</tr>\n",
       "<tr>\n",
       "  <th>평균기온(°C)</th> <td>   -0.0751</td> <td>    0.002</td> <td>  -42.296</td> <td> 0.000</td> <td>   -0.079</td> <td>   -0.072</td>\n",
       "</tr>\n",
       "<tr>\n",
       "  <th>일강수량(mm)</th> <td>    0.0147</td> <td>    0.002</td> <td>    8.369</td> <td> 0.000</td> <td>    0.011</td> <td>    0.018</td>\n",
       "</tr>\n",
       "<tr>\n",
       "  <th>weekend</th>  <td>    0.3391</td> <td>    0.003</td> <td>  100.450</td> <td> 0.000</td> <td>    0.332</td> <td>    0.346</td>\n",
       "</tr>\n",
       "<tr>\n",
       "  <th>soccer</th>   <td>   -0.0087</td> <td>    0.010</td> <td>   -0.837</td> <td> 0.403</td> <td>   -0.029</td> <td>    0.012</td>\n",
       "</tr>\n",
       "<tr>\n",
       "  <th>읍면동_1</th>    <td>   -2.1173</td> <td>    0.007</td> <td> -289.661</td> <td> 0.000</td> <td>   -2.132</td> <td>   -2.103</td>\n",
       "</tr>\n",
       "<tr>\n",
       "  <th>읍면동_2</th>    <td>   -1.7530</td> <td>    0.006</td> <td> -281.283</td> <td> 0.000</td> <td>   -1.765</td> <td>   -1.741</td>\n",
       "</tr>\n",
       "<tr>\n",
       "  <th>읍면동_3</th>    <td>   -0.3274</td> <td>    0.004</td> <td>  -88.486</td> <td> 0.000</td> <td>   -0.335</td> <td>   -0.320</td>\n",
       "</tr>\n",
       "</table>"
      ],
      "text/plain": [
       "<class 'statsmodels.iolib.summary.Summary'>\n",
       "\"\"\"\n",
       "                 Generalized Linear Model Regression Results                  \n",
       "==============================================================================\n",
       "Dep. Variable:                   통화건수   No. Observations:                 3543\n",
       "Model:                            GLM   Df Residuals:                     3534\n",
       "Model Family:                 Poisson   Df Model:                            8\n",
       "Link Function:                    log   Scale:                             1.0\n",
       "Method:                          IRLS   Log-Likelihood:                -40429.\n",
       "Date:                Thu, 30 May 2019   Deviance:                       59743.\n",
       "Time:                        00:36:25   Pearson chi2:                 6.03e+04\n",
       "No. Iterations:                     6                                         \n",
       "==============================================================================\n",
       "                 coef    std err          z      P>|z|      [0.025      0.975]\n",
       "------------------------------------------------------------------------------\n",
       "const          5.1209      0.003   1725.721      0.000       5.115       5.127\n",
       "미세먼지           0.0068      0.002      3.974      0.000       0.003       0.010\n",
       "평균기온(°C)      -0.0751      0.002    -42.296      0.000      -0.079      -0.072\n",
       "일강수량(mm)       0.0147      0.002      8.369      0.000       0.011       0.018\n",
       "weekend        0.3391      0.003    100.450      0.000       0.332       0.346\n",
       "soccer        -0.0087      0.010     -0.837      0.403      -0.029       0.012\n",
       "읍면동_1         -2.1173      0.007   -289.661      0.000      -2.132      -2.103\n",
       "읍면동_2         -1.7530      0.006   -281.283      0.000      -1.765      -1.741\n",
       "읍면동_3         -0.3274      0.004    -88.486      0.000      -0.335      -0.320\n",
       "==============================================================================\n",
       "\"\"\""
      ]
     },
     "execution_count": 15,
     "metadata": {},
     "output_type": "execute_result"
    }
   ],
   "source": [
    "import pickle\n",
    "modelsave = pickle.dumps(glm1)\n",
    "\n",
    "model = pickle.loads(modelsave )\n",
    "\n",
    "model.summary()"
   ]
  },
  {
   "cell_type": "code",
   "execution_count": null,
   "metadata": {},
   "outputs": [],
   "source": []
  }
 ],
 "metadata": {
  "kernelspec": {
   "display_name": "Python 3",
   "language": "python",
   "name": "python3"
  },
  "language_info": {
   "codemirror_mode": {
    "name": "ipython",
    "version": 3
   },
   "file_extension": ".py",
   "mimetype": "text/x-python",
   "name": "python",
   "nbconvert_exporter": "python",
   "pygments_lexer": "ipython3",
   "version": "3.7.1"
  }
 },
 "nbformat": 4,
 "nbformat_minor": 2
}
